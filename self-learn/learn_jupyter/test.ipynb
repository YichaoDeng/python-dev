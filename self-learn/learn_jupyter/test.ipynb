{
 "cells": [
  {
   "cell_type": "code",
   "execution_count": 14,
   "metadata": {
    "collapsed": true,
    "ExecuteTime": {
     "end_time": "2023-06-14T17:26:15.776447Z",
     "start_time": "2023-06-14T17:26:15.774496Z"
    }
   },
   "outputs": [],
   "source": [
    "import pandas as pd\n",
    "import numpy as np\n",
    "from matplotlib import pyplot as plt"
   ]
  },
  {
   "cell_type": "code",
   "execution_count": 16,
   "outputs": [
    {
     "name": "stderr",
     "output_type": "stream",
     "text": [
      "findfont: Generic family 'sans-serif' not found because none of the following families were found: Simhei\n",
      "findfont: Generic family 'sans-serif' not found because none of the following families were found: Simhei\n",
      "findfont: Generic family 'sans-serif' not found because none of the following families were found: Simhei\n",
      "findfont: Generic family 'sans-serif' not found because none of the following families were found: Simhei\n",
      "findfont: Generic family 'sans-serif' not found because none of the following families were found: Simhei\n",
      "findfont: Generic family 'sans-serif' not found because none of the following families were found: Simhei\n",
      "findfont: Generic family 'sans-serif' not found because none of the following families were found: Simhei\n",
      "findfont: Generic family 'sans-serif' not found because none of the following families were found: Simhei\n",
      "findfont: Generic family 'sans-serif' not found because none of the following families were found: Simhei\n",
      "findfont: Generic family 'sans-serif' not found because none of the following families were found: Simhei\n",
      "findfont: Generic family 'sans-serif' not found because none of the following families were found: Simhei\n",
      "findfont: Generic family 'sans-serif' not found because none of the following families were found: Simhei\n",
      "findfont: Generic family 'sans-serif' not found because none of the following families were found: Simhei\n",
      "findfont: Generic family 'sans-serif' not found because none of the following families were found: Simhei\n",
      "findfont: Generic family 'sans-serif' not found because none of the following families were found: Simhei\n",
      "findfont: Generic family 'sans-serif' not found because none of the following families were found: Simhei\n",
      "findfont: Generic family 'sans-serif' not found because none of the following families were found: Simhei\n",
      "findfont: Generic family 'sans-serif' not found because none of the following families were found: Simhei\n",
      "findfont: Generic family 'sans-serif' not found because none of the following families were found: Simhei\n",
      "findfont: Generic family 'sans-serif' not found because none of the following families were found: Simhei\n",
      "findfont: Generic family 'sans-serif' not found because none of the following families were found: Simhei\n",
      "findfont: Generic family 'sans-serif' not found because none of the following families were found: Simhei\n",
      "findfont: Generic family 'sans-serif' not found because none of the following families were found: Simhei\n",
      "findfont: Generic family 'sans-serif' not found because none of the following families were found: Simhei\n",
      "findfont: Generic family 'sans-serif' not found because none of the following families were found: Simhei\n",
      "findfont: Generic family 'sans-serif' not found because none of the following families were found: Simhei\n",
      "findfont: Generic family 'sans-serif' not found because none of the following families were found: Simhei\n",
      "findfont: Generic family 'sans-serif' not found because none of the following families were found: Simhei\n",
      "findfont: Generic family 'sans-serif' not found because none of the following families were found: Simhei\n",
      "findfont: Generic family 'sans-serif' not found because none of the following families were found: Simhei\n",
      "findfont: Generic family 'sans-serif' not found because none of the following families were found: Simhei\n",
      "findfont: Generic family 'sans-serif' not found because none of the following families were found: Simhei\n",
      "findfont: Generic family 'sans-serif' not found because none of the following families were found: Simhei\n",
      "findfont: Generic family 'sans-serif' not found because none of the following families were found: Simhei\n",
      "findfont: Generic family 'sans-serif' not found because none of the following families were found: Simhei\n",
      "findfont: Generic family 'sans-serif' not found because none of the following families were found: Simhei\n",
      "findfont: Generic family 'sans-serif' not found because none of the following families were found: Simhei\n",
      "findfont: Generic family 'sans-serif' not found because none of the following families were found: Simhei\n",
      "findfont: Generic family 'sans-serif' not found because none of the following families were found: Simhei\n",
      "findfont: Generic family 'sans-serif' not found because none of the following families were found: Simhei\n",
      "findfont: Generic family 'sans-serif' not found because none of the following families were found: Simhei\n",
      "findfont: Generic family 'sans-serif' not found because none of the following families were found: Simhei\n",
      "findfont: Generic family 'sans-serif' not found because none of the following families were found: Simhei\n",
      "findfont: Generic family 'sans-serif' not found because none of the following families were found: Simhei\n",
      "findfont: Generic family 'sans-serif' not found because none of the following families were found: Simhei\n",
      "findfont: Generic family 'sans-serif' not found because none of the following families were found: Simhei\n"
     ]
    },
    {
     "data": {
      "text/plain": "<Figure size 800x400 with 1 Axes>",
      "image/png": "[encoded data removed]"
     },
     "metadata": {},
     "output_type": "display_data"
    }
   ],
   "source": [
    "# 改成自己的路径\n",
    "filepath = r'./files/'\n",
    "\n",
    "fig = plt.figure(num='panel', figsize=(8, 4))\n",
    "\n",
    "data = pd.read_csv(f'{filepath}/peptide_rmsd.csv')\n",
    "\n",
    "data = data.dropna(axis=0)\n",
    "\n",
    "headers_x = ['Time (ps)', 'Time (ps)', 'P3_Time', 'P4_Time', 'P5_Time']\n",
    "headers_y = ['P1_RMSD', 'P2_RMSD', 'P3_RMSD', 'P4_RMSD', 'P5_RMSD']\n",
    "\n",
    "# p1 = fig.add_subplot(5, 1, 1)\n",
    "# p2 = fig.add_subplot(5, 1, 2)\n",
    "# p3 = fig.add_subplot(5, 1, 3)\n",
    "# p4 = fig.add_subplot(5, 1, 4)\n",
    "# p5 = fig.add_subplot(5, 1, 5)\n",
    "\n",
    "diffs = [0, 5, 10, 15, 20]\n",
    "\n",
    "# plots = [p1, p2, p3, p4, p5]\n",
    "\n",
    "colors = ['r', 'g', 'b', 'y', 'c']\n",
    "\n",
    "p1 = fig.add_subplot(1, 1, 1)\n",
    "p1.set_xlim(300000, 580000)\n",
    "\n",
    "# for header_x, header_y, plot, color in zip(headers_x, headers_y, plots, colors):\n",
    "#     x = data[header_x]\n",
    "#     y = data[header_y]\n",
    "#     plot.scatter(x, y, s=0.2)\n",
    "#     parameter = np.polyfit(x, y, 17)\n",
    "#     func = np.poly1d(parameter)\n",
    "#     plot.plot(x, func(x), color=color)\n",
    "#     plot.set_xlim(300000, 580000)\n",
    "\n",
    "for header_x, header_y, color, diff in zip(headers_x, headers_y, colors, diffs):\n",
    "    x = data[header_x]\n",
    "    y = data[header_y] + diff\n",
    "\n",
    "    # 先单独画散点\n",
    "    p1.scatter(x, y, s=0.2, color='gray')\n",
    "    # 计算拟合函数\n",
    "    parameter = np.polyfit(x, y, 17)  # 可以设置 1-17， 越大坡度越抖\n",
    "    func = np.poly1d(parameter)\n",
    "\n",
    "    # 再画拟合曲线\n",
    "    p1.plot(x, func(x), color=color)"
   ],
   "metadata": {
    "collapsed": false,
    "ExecuteTime": {
     "end_time": "2023-06-14T17:27:11.834520Z",
     "start_time": "2023-06-14T17:27:11.602433Z"
    }
   }
  },
  {
   "cell_type": "code",
   "execution_count": null,
   "outputs": [],
   "source": [],
   "metadata": {
    "collapsed": false
   }
  }
 ],
 "metadata": {
  "kernelspec": {
   "display_name": "Python 3",
   "language": "python",
   "name": "python3"
  },
  "language_info": {
   "codemirror_mode": {
    "name": "ipython",
    "version": 2
   },
   "file_extension": ".py",
   "mimetype": "text/x-python",
   "name": "python",
   "nbconvert_exporter": "python",
   "pygments_lexer": "ipython2",
   "version": "2.7.6"
  }
 },
 "nbformat": 4,
 "nbformat_minor": 0
}
